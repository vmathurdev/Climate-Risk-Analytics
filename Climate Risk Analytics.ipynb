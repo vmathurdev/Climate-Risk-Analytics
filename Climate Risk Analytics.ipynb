{
 "cells": [
  {
   "cell_type": "markdown",
   "id": "d2003750",
   "metadata": {},
   "source": [
    "# Climate Risk Analytics"
   ]
  },
  {
   "cell_type": "code",
   "execution_count": 39,
   "id": "7f9a3009",
   "metadata": {},
   "outputs": [
    {
     "ename": "ModuleNotFoundError",
     "evalue": "No module named 'pandasql'",
     "output_type": "error",
     "traceback": [
      "\u001b[1;31m---------------------------------------------------------------------------\u001b[0m",
      "\u001b[1;31mModuleNotFoundError\u001b[0m                       Traceback (most recent call last)",
      "\u001b[1;32m~\\AppData\\Local\\Temp/ipykernel_4996/313526839.py\u001b[0m in \u001b[0;36m<module>\u001b[1;34m\u001b[0m\n\u001b[0;32m      1\u001b[0m \u001b[1;32mimport\u001b[0m \u001b[0mpandas\u001b[0m \u001b[1;32mas\u001b[0m \u001b[0mpd\u001b[0m\u001b[1;33m\u001b[0m\u001b[1;33m\u001b[0m\u001b[0m\n\u001b[1;32m----> 2\u001b[1;33m \u001b[1;32mimport\u001b[0m \u001b[0mpandasql\u001b[0m \u001b[1;32mas\u001b[0m \u001b[0mps\u001b[0m\u001b[1;33m\u001b[0m\u001b[1;33m\u001b[0m\u001b[0m\n\u001b[0m",
      "\u001b[1;31mModuleNotFoundError\u001b[0m: No module named 'pandasql'"
     ]
    }
   ],
   "source": [
    "import pandas as pd\n",
    "import pandasql as ps"
   ]
  },
  {
   "cell_type": "markdown",
   "id": "2bc8d9b7",
   "metadata": {},
   "source": [
    "## Question #1: Emission Data Processing"
   ]
  },
  {
   "cell_type": "markdown",
   "id": "7d432576",
   "metadata": {},
   "source": [
    "### Dataset"
   ]
  },
  {
   "cell_type": "code",
   "execution_count": 2,
   "id": "7af3315d",
   "metadata": {},
   "outputs": [
    {
     "data": {
      "text/html": [
       "<div>\n",
       "<style scoped>\n",
       "    .dataframe tbody tr th:only-of-type {\n",
       "        vertical-align: middle;\n",
       "    }\n",
       "\n",
       "    .dataframe tbody tr th {\n",
       "        vertical-align: top;\n",
       "    }\n",
       "\n",
       "    .dataframe thead th {\n",
       "        text-align: right;\n",
       "    }\n",
       "</style>\n",
       "<table border=\"1\" class=\"dataframe\">\n",
       "  <thead>\n",
       "    <tr style=\"text-align: right;\">\n",
       "      <th></th>\n",
       "      <th>CLIENT_ID</th>\n",
       "      <th>NAME</th>\n",
       "      <th>TOTAL_OUTSTANDING</th>\n",
       "    </tr>\n",
       "  </thead>\n",
       "  <tbody>\n",
       "    <tr>\n",
       "      <th>0</th>\n",
       "      <td>528</td>\n",
       "      <td>STAR FLIGHT INC.</td>\n",
       "      <td>1408673</td>\n",
       "    </tr>\n",
       "    <tr>\n",
       "      <th>1</th>\n",
       "      <td>98</td>\n",
       "      <td>SUPERMARKETX LTD.</td>\n",
       "      <td>209321</td>\n",
       "    </tr>\n",
       "    <tr>\n",
       "      <th>2</th>\n",
       "      <td>122</td>\n",
       "      <td>OIL TEK INC.</td>\n",
       "      <td>57002</td>\n",
       "    </tr>\n",
       "    <tr>\n",
       "      <th>3</th>\n",
       "      <td>238</td>\n",
       "      <td>HYDRO CANADA</td>\n",
       "      <td>-2</td>\n",
       "    </tr>\n",
       "    <tr>\n",
       "      <th>4</th>\n",
       "      <td>426</td>\n",
       "      <td>FUELX</td>\n",
       "      <td>39822</td>\n",
       "    </tr>\n",
       "  </tbody>\n",
       "</table>\n",
       "</div>"
      ],
      "text/plain": [
       "   CLIENT_ID               NAME  TOTAL_OUTSTANDING\n",
       "0        528   STAR FLIGHT INC.            1408673\n",
       "1         98  SUPERMARKETX LTD.             209321\n",
       "2        122       OIL TEK INC.              57002\n",
       "3        238       HYDRO CANADA                 -2\n",
       "4        426              FUELX              39822"
      ]
     },
     "metadata": {},
     "output_type": "display_data"
    }
   ],
   "source": [
    "import pandas as pd\n",
    "\n",
    "\n",
    "df_rbc=pd.DataFrame({\n",
    "    \"CLIENT_ID\":[528,98,122,238,426],\n",
    "    \"NAME\":[\"STAR FLIGHT INC.\",\"SUPERMARKETX LTD.\",\"OIL TEK INC.\",\"HYDRO CANADA\",\"FUELX\"],\n",
    "    \"TOTAL_OUTSTANDING\":[1408673,209321,57002,-2,39822]\n",
    "})\n",
    "display(df_rbc)"
   ]
  },
  {
   "cell_type": "markdown",
   "id": "f5101c74",
   "metadata": {},
   "source": [
    "### Emission Dataset"
   ]
  },
  {
   "cell_type": "code",
   "execution_count": 3,
   "id": "5586849a",
   "metadata": {},
   "outputs": [
    {
     "data": {
      "text/html": [
       "<div>\n",
       "<style scoped>\n",
       "    .dataframe tbody tr th:only-of-type {\n",
       "        vertical-align: middle;\n",
       "    }\n",
       "\n",
       "    .dataframe tbody tr th {\n",
       "        vertical-align: top;\n",
       "    }\n",
       "\n",
       "    .dataframe thead th {\n",
       "        text-align: right;\n",
       "    }\n",
       "</style>\n",
       "<table border=\"1\" class=\"dataframe\">\n",
       "  <thead>\n",
       "    <tr style=\"text-align: right;\">\n",
       "      <th></th>\n",
       "      <th>CLIENT_ID</th>\n",
       "      <th>EMISSIONS_SCOPE_1</th>\n",
       "      <th>EMISSIONS_SCOPE_2</th>\n",
       "    </tr>\n",
       "  </thead>\n",
       "  <tbody>\n",
       "    <tr>\n",
       "      <th>0</th>\n",
       "      <td>528</td>\n",
       "      <td>12039</td>\n",
       "      <td>203</td>\n",
       "    </tr>\n",
       "    <tr>\n",
       "      <th>1</th>\n",
       "      <td>238</td>\n",
       "      <td>2102</td>\n",
       "      <td>492</td>\n",
       "    </tr>\n",
       "    <tr>\n",
       "      <th>2</th>\n",
       "      <td>426</td>\n",
       "      <td>53034</td>\n",
       "      <td>1038</td>\n",
       "    </tr>\n",
       "  </tbody>\n",
       "</table>\n",
       "</div>"
      ],
      "text/plain": [
       "   CLIENT_ID  EMISSIONS_SCOPE_1  EMISSIONS_SCOPE_2\n",
       "0        528              12039                203\n",
       "1        238               2102                492\n",
       "2        426              53034               1038"
      ]
     },
     "metadata": {},
     "output_type": "display_data"
    }
   ],
   "source": [
    "df_emi=pd.DataFrame({\n",
    "    \"CLIENT_ID\":[528,238,426],\n",
    "    \"EMISSIONS_SCOPE_1\":[12039,2102,53034],\n",
    "    \"EMISSIONS_SCOPE_2\":[203,492,1038],\n",
    "})\n",
    "display(df_emi)"
   ]
  },
  {
   "cell_type": "markdown",
   "id": "21ea236b",
   "metadata": {},
   "source": [
    "Problem 1a: RBC Data Preprocessing"
   ]
  },
  {
   "cell_type": "code",
   "execution_count": 6,
   "id": "7ad1b0d5",
   "metadata": {},
   "outputs": [
    {
     "data": {
      "text/html": [
       "<div>\n",
       "<style scoped>\n",
       "    .dataframe tbody tr th:only-of-type {\n",
       "        vertical-align: middle;\n",
       "    }\n",
       "\n",
       "    .dataframe tbody tr th {\n",
       "        vertical-align: top;\n",
       "    }\n",
       "\n",
       "    .dataframe thead th {\n",
       "        text-align: right;\n",
       "    }\n",
       "</style>\n",
       "<table border=\"1\" class=\"dataframe\">\n",
       "  <thead>\n",
       "    <tr style=\"text-align: right;\">\n",
       "      <th></th>\n",
       "      <th>CLIENT_ID</th>\n",
       "      <th>NAME</th>\n",
       "      <th>TOTAL_OUTSTANDING</th>\n",
       "    </tr>\n",
       "  </thead>\n",
       "  <tbody>\n",
       "    <tr>\n",
       "      <th>0</th>\n",
       "      <td>528</td>\n",
       "      <td>STAR FLIGHT INC.</td>\n",
       "      <td>1408673</td>\n",
       "    </tr>\n",
       "    <tr>\n",
       "      <th>1</th>\n",
       "      <td>98</td>\n",
       "      <td>SUPERMARKETX LTD.</td>\n",
       "      <td>209321</td>\n",
       "    </tr>\n",
       "    <tr>\n",
       "      <th>2</th>\n",
       "      <td>122</td>\n",
       "      <td>OIL TEK INC.</td>\n",
       "      <td>57002</td>\n",
       "    </tr>\n",
       "    <tr>\n",
       "      <th>4</th>\n",
       "      <td>426</td>\n",
       "      <td>FUELX</td>\n",
       "      <td>39822</td>\n",
       "    </tr>\n",
       "  </tbody>\n",
       "</table>\n",
       "</div>"
      ],
      "text/plain": [
       "   CLIENT_ID               NAME  TOTAL_OUTSTANDING\n",
       "0        528   STAR FLIGHT INC.            1408673\n",
       "1         98  SUPERMARKETX LTD.             209321\n",
       "2        122       OIL TEK INC.              57002\n",
       "4        426              FUELX              39822"
      ]
     },
     "execution_count": 6,
     "metadata": {},
     "output_type": "execute_result"
    }
   ],
   "source": [
    "# Remove any clients with negative tot_os from the RBC Dataset\n",
    "df_rbc1=df_rbc[df_rbc['TOTAL_OUTSTANDING']> 0]\n",
    "df_rbc1"
   ]
  },
  {
   "cell_type": "markdown",
   "id": "1dc14ef8",
   "metadata": {},
   "source": [
    "Problem 1b: Emission Data Preprocessing"
   ]
  },
  {
   "cell_type": "code",
   "execution_count": 15,
   "id": "96b4fcb8",
   "metadata": {},
   "outputs": [
    {
     "data": {
      "text/html": [
       "<div>\n",
       "<style scoped>\n",
       "    .dataframe tbody tr th:only-of-type {\n",
       "        vertical-align: middle;\n",
       "    }\n",
       "\n",
       "    .dataframe tbody tr th {\n",
       "        vertical-align: top;\n",
       "    }\n",
       "\n",
       "    .dataframe thead th {\n",
       "        text-align: right;\n",
       "    }\n",
       "</style>\n",
       "<table border=\"1\" class=\"dataframe\">\n",
       "  <thead>\n",
       "    <tr style=\"text-align: right;\">\n",
       "      <th></th>\n",
       "      <th>CLIENT_ID</th>\n",
       "      <th>EMISSIONS_SCOPE_1</th>\n",
       "      <th>EMISSIONS_SCOPE_2</th>\n",
       "      <th>EMISSIONS_TOTAL</th>\n",
       "    </tr>\n",
       "  </thead>\n",
       "  <tbody>\n",
       "    <tr>\n",
       "      <th>0</th>\n",
       "      <td>528</td>\n",
       "      <td>12039</td>\n",
       "      <td>203</td>\n",
       "      <td>12242</td>\n",
       "    </tr>\n",
       "    <tr>\n",
       "      <th>1</th>\n",
       "      <td>238</td>\n",
       "      <td>2102</td>\n",
       "      <td>492</td>\n",
       "      <td>2594</td>\n",
       "    </tr>\n",
       "    <tr>\n",
       "      <th>2</th>\n",
       "      <td>426</td>\n",
       "      <td>53034</td>\n",
       "      <td>1038</td>\n",
       "      <td>54072</td>\n",
       "    </tr>\n",
       "  </tbody>\n",
       "</table>\n",
       "</div>"
      ],
      "text/plain": [
       "   CLIENT_ID  EMISSIONS_SCOPE_1  EMISSIONS_SCOPE_2  EMISSIONS_TOTAL\n",
       "0        528              12039                203            12242\n",
       "1        238               2102                492             2594\n",
       "2        426              53034               1038            54072"
      ]
     },
     "execution_count": 15,
     "metadata": {},
     "output_type": "execute_result"
    }
   ],
   "source": [
    "# Create a column named \"EMISSIONS_TOTAL\" by adding EMISSIONS_SCOPE_1 to EMISSIONS_SCOPE_2 in the Emission Dataset\n",
    "df_emi\n",
    "EMISSIONS_TOTAL = df_emi['EMISSIONS_SCOPE_1'] + df_emi ['EMISSIONS_SCOPE_2']\n",
    "EMISSIONS_TOTAL\n",
    "df_emi ['EMISSIONS_TOTAL'] = EMISSIONS_TOTAL\n",
    "df_emi"
   ]
  },
  {
   "cell_type": "markdown",
   "id": "c2f4f439",
   "metadata": {},
   "source": [
    "Problem 1c: Join Datasets"
   ]
  },
  {
   "cell_type": "code",
   "execution_count": 18,
   "id": "4ac8ee9b",
   "metadata": {},
   "outputs": [
    {
     "data": {
      "text/html": [
       "<div>\n",
       "<style scoped>\n",
       "    .dataframe tbody tr th:only-of-type {\n",
       "        vertical-align: middle;\n",
       "    }\n",
       "\n",
       "    .dataframe tbody tr th {\n",
       "        vertical-align: top;\n",
       "    }\n",
       "\n",
       "    .dataframe thead th {\n",
       "        text-align: right;\n",
       "    }\n",
       "</style>\n",
       "<table border=\"1\" class=\"dataframe\">\n",
       "  <thead>\n",
       "    <tr style=\"text-align: right;\">\n",
       "      <th></th>\n",
       "      <th>CLIENT_ID</th>\n",
       "      <th>NAME</th>\n",
       "      <th>TOTAL_OUTSTANDING</th>\n",
       "      <th>EMISSIONS_SCOPE_1</th>\n",
       "      <th>EMISSIONS_SCOPE_2</th>\n",
       "      <th>EMISSIONS_TOTAL</th>\n",
       "    </tr>\n",
       "  </thead>\n",
       "  <tbody>\n",
       "    <tr>\n",
       "      <th>0</th>\n",
       "      <td>528</td>\n",
       "      <td>STAR FLIGHT INC.</td>\n",
       "      <td>1408673</td>\n",
       "      <td>12039.0</td>\n",
       "      <td>203.0</td>\n",
       "      <td>12242.0</td>\n",
       "    </tr>\n",
       "    <tr>\n",
       "      <th>1</th>\n",
       "      <td>98</td>\n",
       "      <td>SUPERMARKETX LTD.</td>\n",
       "      <td>209321</td>\n",
       "      <td>NaN</td>\n",
       "      <td>NaN</td>\n",
       "      <td>NaN</td>\n",
       "    </tr>\n",
       "    <tr>\n",
       "      <th>2</th>\n",
       "      <td>122</td>\n",
       "      <td>OIL TEK INC.</td>\n",
       "      <td>57002</td>\n",
       "      <td>NaN</td>\n",
       "      <td>NaN</td>\n",
       "      <td>NaN</td>\n",
       "    </tr>\n",
       "    <tr>\n",
       "      <th>3</th>\n",
       "      <td>238</td>\n",
       "      <td>HYDRO CANADA</td>\n",
       "      <td>-2</td>\n",
       "      <td>2102.0</td>\n",
       "      <td>492.0</td>\n",
       "      <td>2594.0</td>\n",
       "    </tr>\n",
       "    <tr>\n",
       "      <th>4</th>\n",
       "      <td>426</td>\n",
       "      <td>FUELX</td>\n",
       "      <td>39822</td>\n",
       "      <td>53034.0</td>\n",
       "      <td>1038.0</td>\n",
       "      <td>54072.0</td>\n",
       "    </tr>\n",
       "  </tbody>\n",
       "</table>\n",
       "</div>"
      ],
      "text/plain": [
       "   CLIENT_ID               NAME  TOTAL_OUTSTANDING  EMISSIONS_SCOPE_1  \\\n",
       "0        528   STAR FLIGHT INC.            1408673            12039.0   \n",
       "1         98  SUPERMARKETX LTD.             209321                NaN   \n",
       "2        122       OIL TEK INC.              57002                NaN   \n",
       "3        238       HYDRO CANADA                 -2             2102.0   \n",
       "4        426              FUELX              39822            53034.0   \n",
       "\n",
       "   EMISSIONS_SCOPE_2  EMISSIONS_TOTAL  \n",
       "0              203.0          12242.0  \n",
       "1                NaN              NaN  \n",
       "2                NaN              NaN  \n",
       "3              492.0           2594.0  \n",
       "4             1038.0          54072.0  "
      ]
     },
     "execution_count": 18,
     "metadata": {},
     "output_type": "execute_result"
    }
   ],
   "source": [
    "# Join Emission Dataset to RBC Dataset using the CLIENT_ID column\n",
    "df1= df_rbc.merge(df_emi,on =\"CLIENT_ID\", how=\"left\")\n",
    "df1"
   ]
  },
  {
   "cell_type": "markdown",
   "id": "fc8d2ce9",
   "metadata": {},
   "source": [
    "Problem 1d: Calculate Emission Intensity"
   ]
  },
  {
   "cell_type": "code",
   "execution_count": 38,
   "id": "1db60fc4",
   "metadata": {},
   "outputs": [
    {
     "data": {
      "text/html": [
       "<div>\n",
       "<style scoped>\n",
       "    .dataframe tbody tr th:only-of-type {\n",
       "        vertical-align: middle;\n",
       "    }\n",
       "\n",
       "    .dataframe tbody tr th {\n",
       "        vertical-align: top;\n",
       "    }\n",
       "\n",
       "    .dataframe thead th {\n",
       "        text-align: right;\n",
       "    }\n",
       "</style>\n",
       "<table border=\"1\" class=\"dataframe\">\n",
       "  <thead>\n",
       "    <tr style=\"text-align: right;\">\n",
       "      <th></th>\n",
       "      <th>CLIENT_ID</th>\n",
       "      <th>NAME</th>\n",
       "      <th>TOTAL_OUTSTANDING</th>\n",
       "      <th>EMISSIONS_SCOPE_1</th>\n",
       "      <th>EMISSIONS_SCOPE_2</th>\n",
       "      <th>EMISSIONS_TOTAL</th>\n",
       "      <th>emission_intensity</th>\n",
       "    </tr>\n",
       "  </thead>\n",
       "  <tbody>\n",
       "    <tr>\n",
       "      <th>0</th>\n",
       "      <td>528</td>\n",
       "      <td>STAR FLIGHT INC.</td>\n",
       "      <td>1408673</td>\n",
       "      <td>12039.0</td>\n",
       "      <td>203.0</td>\n",
       "      <td>12242.0</td>\n",
       "      <td>40183.903113</td>\n",
       "    </tr>\n",
       "    <tr>\n",
       "      <th>1</th>\n",
       "      <td>98</td>\n",
       "      <td>SUPERMARKETX LTD.</td>\n",
       "      <td>209321</td>\n",
       "      <td>NaN</td>\n",
       "      <td>NaN</td>\n",
       "      <td>NaN</td>\n",
       "      <td>40183.903113</td>\n",
       "    </tr>\n",
       "    <tr>\n",
       "      <th>2</th>\n",
       "      <td>122</td>\n",
       "      <td>OIL TEK INC.</td>\n",
       "      <td>57002</td>\n",
       "      <td>NaN</td>\n",
       "      <td>NaN</td>\n",
       "      <td>NaN</td>\n",
       "      <td>40183.903113</td>\n",
       "    </tr>\n",
       "    <tr>\n",
       "      <th>3</th>\n",
       "      <td>238</td>\n",
       "      <td>HYDRO CANADA</td>\n",
       "      <td>-2</td>\n",
       "      <td>2102.0</td>\n",
       "      <td>492.0</td>\n",
       "      <td>2594.0</td>\n",
       "      <td>40183.903113</td>\n",
       "    </tr>\n",
       "    <tr>\n",
       "      <th>4</th>\n",
       "      <td>426</td>\n",
       "      <td>FUELX</td>\n",
       "      <td>39822</td>\n",
       "      <td>53034.0</td>\n",
       "      <td>1038.0</td>\n",
       "      <td>54072.0</td>\n",
       "      <td>40183.903113</td>\n",
       "    </tr>\n",
       "  </tbody>\n",
       "</table>\n",
       "</div>"
      ],
      "text/plain": [
       "   CLIENT_ID               NAME  TOTAL_OUTSTANDING  EMISSIONS_SCOPE_1  \\\n",
       "0        528   STAR FLIGHT INC.            1408673            12039.0   \n",
       "1         98  SUPERMARKETX LTD.             209321                NaN   \n",
       "2        122       OIL TEK INC.              57002                NaN   \n",
       "3        238       HYDRO CANADA                 -2             2102.0   \n",
       "4        426              FUELX              39822            53034.0   \n",
       "\n",
       "   EMISSIONS_SCOPE_2  EMISSIONS_TOTAL  emission_intensity  \n",
       "0              203.0          12242.0        40183.903113  \n",
       "1                NaN              NaN        40183.903113  \n",
       "2                NaN              NaN        40183.903113  \n",
       "3              492.0           2594.0        40183.903113  \n",
       "4             1038.0          54072.0        40183.903113  "
      ]
     },
     "execution_count": 38,
     "metadata": {},
     "output_type": "execute_result"
    }
   ],
   "source": [
    "# Use the following formula to calculate emission intensity:\n",
    "# Σ EMISSIONS_TOTAL / Σ TOTAL_OUTSTANDING * 1000000\n",
    "\n",
    "emission_intensity = (df1['EMISSIONS_TOTAL'].sum() / df1 ['TOTAL_OUTSTANDING'].sum())* 1000000\n",
    "emission_intensity\n",
    "df1 ['emission_intensity'] = emission_intensity\n",
    "df1"
   ]
  },
  {
   "cell_type": "markdown",
   "id": "c15c466a",
   "metadata": {},
   "source": [
    "## Question #2: Modified Fibonacci Sequence"
   ]
  },
  {
   "cell_type": "markdown",
   "id": "7832cbc7",
   "metadata": {},
   "source": [
    "Write a function that returns the Nth number of the modified Fibonacci series where A and B are the first two terms."
   ]
  },
  {
   "cell_type": "code",
   "execution_count": 23,
   "id": "c4d3e9bf",
   "metadata": {},
   "outputs": [],
   "source": [
    "# Please Modify the following function\n",
    "def findNthNumber(A, B, N):\n",
    "    sum = 0\n",
    "    for i in range(2, N):\n",
    "        sum = A + B\n",
    " \n",
    "        A = B\n",
    " \n",
    "        B = sum\n",
    "     \n",
    "    \n",
    "    return sum"
   ]
  },
  {
   "cell_type": "code",
   "execution_count": 24,
   "id": "76d0cad5",
   "metadata": {},
   "outputs": [
    {
     "data": {
      "text/plain": [
       "343"
      ]
     },
     "execution_count": 24,
     "metadata": {},
     "output_type": "execute_result"
    }
   ],
   "source": [
    "findNthNumber(5, 7, 10) #Expecting 343"
   ]
  },
  {
   "cell_type": "markdown",
   "id": "e8f11684",
   "metadata": {},
   "source": [
    "### Question #3: SQL"
   ]
  },
  {
   "cell_type": "markdown",
   "id": "65581af9",
   "metadata": {},
   "source": [
    "Obtain the most recent TOTAL_OUTSTANDING for each client where the most recent year is more than 2019. Use the following CLIENT TABLE for your analysis."
   ]
  },
  {
   "cell_type": "code",
   "execution_count": 30,
   "id": "8a844d5e",
   "metadata": {
    "scrolled": true
   },
   "outputs": [
    {
     "name": "stdout",
     "output_type": "stream",
     "text": [
      "CLIENT TABLE\n"
     ]
    },
    {
     "data": {
      "text/html": [
       "<div>\n",
       "<style scoped>\n",
       "    .dataframe tbody tr th:only-of-type {\n",
       "        vertical-align: middle;\n",
       "    }\n",
       "\n",
       "    .dataframe tbody tr th {\n",
       "        vertical-align: top;\n",
       "    }\n",
       "\n",
       "    .dataframe thead th {\n",
       "        text-align: right;\n",
       "    }\n",
       "</style>\n",
       "<table border=\"1\" class=\"dataframe\">\n",
       "  <thead>\n",
       "    <tr style=\"text-align: right;\">\n",
       "      <th></th>\n",
       "      <th>CLIENT_ID</th>\n",
       "      <th>NAME</th>\n",
       "      <th>TOTAL_OUTSTANDING</th>\n",
       "      <th>YEAR</th>\n",
       "    </tr>\n",
       "  </thead>\n",
       "  <tbody>\n",
       "    <tr>\n",
       "      <th>0</th>\n",
       "      <td>528</td>\n",
       "      <td>STAR FLIGHT INC.</td>\n",
       "      <td>1408673</td>\n",
       "      <td>2021</td>\n",
       "    </tr>\n",
       "    <tr>\n",
       "      <th>1</th>\n",
       "      <td>528</td>\n",
       "      <td>STAR FLIGHT INC.</td>\n",
       "      <td>1308271</td>\n",
       "      <td>2020</td>\n",
       "    </tr>\n",
       "    <tr>\n",
       "      <th>2</th>\n",
       "      <td>98</td>\n",
       "      <td>OIL TEK INC.</td>\n",
       "      <td>57002</td>\n",
       "      <td>2020</td>\n",
       "    </tr>\n",
       "    <tr>\n",
       "      <th>3</th>\n",
       "      <td>98</td>\n",
       "      <td>OIL TEK INC.</td>\n",
       "      <td>78002</td>\n",
       "      <td>2018</td>\n",
       "    </tr>\n",
       "    <tr>\n",
       "      <th>4</th>\n",
       "      <td>98</td>\n",
       "      <td>OIL TEK INC.</td>\n",
       "      <td>100236</td>\n",
       "      <td>2017</td>\n",
       "    </tr>\n",
       "    <tr>\n",
       "      <th>5</th>\n",
       "      <td>426</td>\n",
       "      <td>FUELX</td>\n",
       "      <td>502184</td>\n",
       "      <td>2019</td>\n",
       "    </tr>\n",
       "  </tbody>\n",
       "</table>\n",
       "</div>"
      ],
      "text/plain": [
       "   CLIENT_ID              NAME  TOTAL_OUTSTANDING  YEAR\n",
       "0        528  STAR FLIGHT INC.            1408673  2021\n",
       "1        528  STAR FLIGHT INC.            1308271  2020\n",
       "2         98      OIL TEK INC.              57002  2020\n",
       "3         98      OIL TEK INC.              78002  2018\n",
       "4         98      OIL TEK INC.             100236  2017\n",
       "5        426             FUELX             502184  2019"
      ]
     },
     "metadata": {},
     "output_type": "display_data"
    }
   ],
   "source": [
    "df_sql=pd.DataFrame({\n",
    "    \"CLIENT_ID\":[528,528,98,98,98,426],\n",
    "    \"NAME\":[\"STAR FLIGHT INC.\",\"STAR FLIGHT INC.\",\"OIL TEK INC.\",\"OIL TEK INC.\",\"OIL TEK INC.\",\"FUELX\"],\n",
    "    \"TOTAL_OUTSTANDING\":[1408673,1308271,57002,78002,100236,502184],\n",
    "    \"YEAR\": [2021,2020,2020,2018,2017,2019]\n",
    "})\n",
    "print(\"CLIENT TABLE\")\n",
    "display(df_sql)"
   ]
  },
  {
   "cell_type": "code",
   "execution_count": 31,
   "id": "b06c2f49",
   "metadata": {
    "scrolled": true
   },
   "outputs": [
    {
     "ename": "NameError",
     "evalue": "name 'ps' is not defined",
     "output_type": "error",
     "traceback": [
      "\u001b[1;31m---------------------------------------------------------------------------\u001b[0m",
      "\u001b[1;31mNameError\u001b[0m                                 Traceback (most recent call last)",
      "\u001b[1;32m~\\AppData\\Local\\Temp/ipykernel_4996/2083677818.py\u001b[0m in \u001b[0;36m<module>\u001b[1;34m\u001b[0m\n\u001b[0;32m      1\u001b[0m \u001b[1;31m# Modify the following SQL query\u001b[0m\u001b[1;33m\u001b[0m\u001b[1;33m\u001b[0m\u001b[0m\n\u001b[1;32m----> 2\u001b[1;33m ps.sqldf(\"\"\"\n\u001b[0m\u001b[0;32m      3\u001b[0m \u001b[0mSELECT\u001b[0m \u001b[0mNAME\u001b[0m\u001b[1;33m,\u001b[0m \u001b[0mTOTAL_OUTSTANDING\u001b[0m\u001b[1;33m,\u001b[0m \u001b[0mYEAR\u001b[0m \u001b[0mFROM\u001b[0m \u001b[0mdf_sql\u001b[0m\u001b[1;33m\u001b[0m\u001b[1;33m\u001b[0m\u001b[0m\n\u001b[0;32m      4\u001b[0m \u001b[0mwhere\u001b[0m \u001b[0myear\u001b[0m \u001b[1;33m>\u001b[0m \u001b[1;36m2019\u001b[0m\u001b[1;33m\u001b[0m\u001b[1;33m\u001b[0m\u001b[0m\n\u001b[0;32m      5\u001b[0m \u001b[0mgroup\u001b[0m \u001b[0mby\u001b[0m \u001b[1;36m1\u001b[0m\u001b[1;33m,\u001b[0m\u001b[1;36m3\u001b[0m\u001b[1;33m\u001b[0m\u001b[1;33m\u001b[0m\u001b[0m\n",
      "\u001b[1;31mNameError\u001b[0m: name 'ps' is not defined"
     ]
    }
   ],
   "source": [
    "# Modify the following SQL query\n",
    "ps.sqldf(\"\"\"\n",
    "SELECT NAME, sum(TOTAL_OUTSTANDING) as TOTAL_OUTSTANDING , YEAR FROM df_sql\n",
    "where year > 2019\n",
    "group by 1,3\n",
    "\n",
    "\"\"\")"
   ]
  }
 ],
 "metadata": {
  "kernelspec": {
   "display_name": "Python 3 (ipykernel)",
   "language": "python",
   "name": "python3"
  },
  "language_info": {
   "codemirror_mode": {
    "name": "ipython",
    "version": 3
   },
   "file_extension": ".py",
   "mimetype": "text/x-python",
   "name": "python",
   "nbconvert_exporter": "python",
   "pygments_lexer": "ipython3",
   "version": "3.9.7"
  }
 },
 "nbformat": 4,
 "nbformat_minor": 5
}
